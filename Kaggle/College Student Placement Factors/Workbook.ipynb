{
 "cells": [
  {
   "cell_type": "markdown",
   "id": "7230080e",
   "metadata": {},
   "source": [
    "# **College Student Placement Factors Dataset** #"
   ]
  },
  {
   "cell_type": "markdown",
   "id": "cc27dcd6",
   "metadata": {},
   "source": [
    "#### Credits to `SAHIL ISLAM007` for the dataset. ####\n",
    "\n",
    "Source: https://www.kaggle.com/datasets/sahilislam007/college-student-placement-factors-dataset?resource=download\n"
   ]
  },
  {
   "cell_type": "markdown",
   "id": "f35820c5",
   "metadata": {},
   "source": [
    "## Libraries ##"
   ]
  },
  {
   "cell_type": "code",
   "execution_count": 15,
   "id": "32c6af51",
   "metadata": {},
   "outputs": [],
   "source": [
    "import numpy as np\n",
    "import pandas as pd\n",
    "import seaborn as sns\n",
    "import matplotlib.pyplot as plt"
   ]
  },
  {
   "cell_type": "markdown",
   "id": "20f59639",
   "metadata": {},
   "source": [
    "## Dataset ##"
   ]
  },
  {
   "cell_type": "code",
   "execution_count": null,
   "id": "b4eed619",
   "metadata": {},
   "outputs": [],
   "source": [
    "path = r'Insert path here'\n",
    "data = pd.read_csv(path)"
   ]
  },
  {
   "cell_type": "code",
   "execution_count": 17,
   "id": "37407b80",
   "metadata": {},
   "outputs": [
    {
     "name": "stdout",
     "output_type": "stream",
     "text": [
      "                 IQ  Prev_Sem_Result          CGPA  Academic_Performance  \\\n",
      "count  10000.000000     10000.000000  10000.000000          10000.000000   \n",
      "mean      99.471800         7.535673      7.532379              5.546400   \n",
      "std       15.053101         1.447519      1.470141              2.873477   \n",
      "min       41.000000         5.000000      4.540000              1.000000   \n",
      "25%       89.000000         6.290000      6.290000              3.000000   \n",
      "50%       99.000000         7.560000      7.550000              6.000000   \n",
      "75%      110.000000         8.790000      8.770000              8.000000   \n",
      "max      158.000000        10.000000     10.460000             10.000000   \n",
      "\n",
      "       Extra_Curricular_Score  Communication_Skills  Projects_Completed  \n",
      "count            10000.000000          10000.000000        10000.000000  \n",
      "mean                 4.970900              5.561800            2.513400  \n",
      "std                  3.160103              2.900866            1.715959  \n",
      "min                  0.000000              1.000000            0.000000  \n",
      "25%                  2.000000              3.000000            1.000000  \n",
      "50%                  5.000000              6.000000            3.000000  \n",
      "75%                  8.000000              8.000000            4.000000  \n",
      "max                 10.000000             10.000000            5.000000  \n"
     ]
    }
   ],
   "source": [
    "print(data.describe())\n",
    "#print(data.head(5))"
   ]
  },
  {
   "cell_type": "markdown",
   "id": "10a3fe0d",
   "metadata": {},
   "source": [
    "### Known Fields ###\n",
    "- **College_ID**\n",
    "    - Unique ID of colleges.\n",
    "- **IQ**\n",
    "    - Student IQ score (normally distributed around 100.)\n",
    "- **Prev_Sem_Result**\n",
    "    -  Grade point average of previous semester (range of 5.0 to 10.0).\n",
    "- **CGPA**\n",
    "    - Cumulative Grde Point Average  (range of ~5.0 to 10.0)\n",
    "- **Academic_Performance**\n",
    "    - Scale (1 to 10) for annual academic rating.\n",
    "- **Internship Experience**\n",
    "    - Boolean ('Yes'/'No') for student past internship experience.\n",
    "- **Communication_Skills**\n",
    "    - Scale (1 to 10) for communication ability rating.\n",
    "- **Project_Completed**\n",
    "    - Count (0 to 5) of projects completed.\n",
    "- **Placement**\n",
    "    - Boolean ('Yes'/'No') of whether student got a placement."
   ]
  },
  {
   "cell_type": "markdown",
   "id": "d633ad85",
   "metadata": {},
   "source": [
    "## Objectives (Current) ##\n",
    "- Clean/normalize/adjust dataset for data analysis if needed.\n",
    "- Identify preliminary (linear) relationships between data using a correlation matrix with p-values for significance.\n",
    "- Identify key factors and their importance that influence placement using factor analysis (or other) methods.\n",
    "- Consider feature engineer a ``Student_Score`` using factors (and weightings if needed) for determining placement.\n",
    "- Test ``Student_Score`` for suitability using a decision tree.\n",
    "- If suitable, identify key thresholds that can be used for automating placement decisions using ``Student_Score``. Consider methods such as logistic regression or random forest.\n",
    "- Train a model to categorise whether a student will get a placement or not. Consider ensemble learning methods for improved accuracy.\n",
    "- Test the model for suitability."
   ]
  }
 ],
 "metadata": {
  "kernelspec": {
   "display_name": "Python 3",
   "language": "python",
   "name": "python3"
  },
  "language_info": {
   "codemirror_mode": {
    "name": "ipython",
    "version": 3
   },
   "file_extension": ".py",
   "mimetype": "text/x-python",
   "name": "python",
   "nbconvert_exporter": "python",
   "pygments_lexer": "ipython3",
   "version": "3.11.9"
  }
 },
 "nbformat": 4,
 "nbformat_minor": 5
}
