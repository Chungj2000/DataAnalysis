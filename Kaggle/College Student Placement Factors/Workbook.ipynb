{
 "cells": [
  {
   "cell_type": "markdown",
   "id": "7230080e",
   "metadata": {},
   "source": [
    "# **College Student Placement Factors Dataset** #"
   ]
  },
  {
   "cell_type": "markdown",
   "id": "cc27dcd6",
   "metadata": {},
   "source": [
    "#### Credits to `SAHIL ISLAM007` for the dataset. ####\n",
    "\n",
    "Source: https://www.kaggle.com/datasets/sahilislam007/college-student-placement-factors-dataset?resource=download\n"
   ]
  },
  {
   "cell_type": "markdown",
   "id": "f35820c5",
   "metadata": {},
   "source": [
    "## Libraries ##"
   ]
  },
  {
   "cell_type": "code",
   "execution_count": 12,
   "id": "32c6af51",
   "metadata": {},
   "outputs": [],
   "source": [
    "import numpy as np\n",
    "import pandas as pd\n",
    "import seaborn as sns\n",
    "import matplotlib.pyplot as plt\n",
    "\n",
    "from scipy.stats import zscore, pearsonr\n",
    "from matplotlib.colors import LinearSegmentedColormap\n",
    "\n",
    "from sklearn.decomposition import PCA\n",
    "from sklearn.preprocessing import StandardScaler\n",
    "from sklearn.model_selection import train_test_split\n",
    "from factor_analyzer.factor_analyzer import calculate_kmo, FactorAnalyzer"
   ]
  },
  {
   "cell_type": "markdown",
   "id": "20f59639",
   "metadata": {},
   "source": [
    "## Dataset ##"
   ]
  },
  {
   "cell_type": "code",
   "execution_count": null,
   "id": "b4eed619",
   "metadata": {},
   "outputs": [],
   "source": [
    "path = r'Insert data path here'\n",
    "data = pd.read_csv(path)"
   ]
  },
  {
   "cell_type": "code",
   "execution_count": 3,
   "id": "37407b80",
   "metadata": {},
   "outputs": [
    {
     "name": "stdout",
     "output_type": "stream",
     "text": [
      "<class 'pandas.core.frame.DataFrame'>\n",
      "RangeIndex: 10000 entries, 0 to 9999\n",
      "Data columns (total 10 columns):\n",
      " #   Column                  Non-Null Count  Dtype  \n",
      "---  ------                  --------------  -----  \n",
      " 0   College_ID              10000 non-null  object \n",
      " 1   IQ                      10000 non-null  int64  \n",
      " 2   Prev_Sem_Result         10000 non-null  float64\n",
      " 3   CGPA                    10000 non-null  float64\n",
      " 4   Academic_Performance    10000 non-null  int64  \n",
      " 5   Internship_Experience   10000 non-null  object \n",
      " 6   Extra_Curricular_Score  10000 non-null  int64  \n",
      " 7   Communication_Skills    10000 non-null  int64  \n",
      " 8   Projects_Completed      10000 non-null  int64  \n",
      " 9   Placement               10000 non-null  object \n",
      "dtypes: float64(2), int64(5), object(3)\n",
      "memory usage: 781.4+ KB\n",
      "None\n"
     ]
    }
   ],
   "source": [
    "print(data.info())\n",
    "\n",
    "#print(data.describe())\n",
    "\n",
    "#print(data.head(5))"
   ]
  },
  {
   "cell_type": "markdown",
   "id": "10a3fe0d",
   "metadata": {},
   "source": [
    "### Known Fields ###\n",
    "- **College_ID**\n",
    "    - Unique ID of colleges.\n",
    "- **IQ**\n",
    "    - Student IQ score (normally distributed around 100.)\n",
    "- **Prev_Sem_Result**\n",
    "    -  Grade point average of previous semester (range of 5.0 to 10.0).\n",
    "- **CGPA**\n",
    "    - Cumulative Grde Point Average  (range of ~5.0 to 10.0)\n",
    "- **Academic_Performance**\n",
    "    - Scale (1 to 10) for annual academic rating.\n",
    "- **Internship_Experience**\n",
    "    - Boolean ('Yes'/'No') for student past internship experience.\n",
    "- **Communication_Skills**\n",
    "    - Scale (1 to 10) for communication ability rating.\n",
    "- **Projects_Completed**\n",
    "    - Count (0 to 5) of projects completed.\n",
    "- **Placement**\n",
    "    - Boolean ('Yes'/'No') of whether student got a placement."
   ]
  },
  {
   "cell_type": "markdown",
   "id": "d633ad85",
   "metadata": {},
   "source": [
    "## Objectives (Current) ##\n",
    "- Clean/normalize/adjust dataset for data analysis if needed.\n",
    "- Identify preliminary (linear) relationships between data using a correlation matrix with p-values for significance.\n",
    "- Identify key factors and their importance that influence placement using factor analysis (or other) methods.\n",
    "- Consider feature engineer a ``Student_Score`` using factors (and weightings if needed) for determining placement.\n",
    "- Test ``Student_Score`` for suitability using a decision tree.\n",
    "- If suitable, identify key thresholds that can be used for automating placement decisions using ``Student_Score``. Consider methods such as logistic regression or random forest.\n",
    "- Train a model to categorise whether a student will get a placement or not. Consider ensemble learning methods for improved accuracy.\n",
    "- Test the model for suitability."
   ]
  },
  {
   "cell_type": "markdown",
   "id": "d96edf1e",
   "metadata": {},
   "source": [
    "## Cleaning Dataset ##"
   ]
  },
  {
   "cell_type": "code",
   "execution_count": 4,
   "id": "0b0a4dfa",
   "metadata": {},
   "outputs": [
    {
     "name": "stdout",
     "output_type": "stream",
     "text": [
      "Columns with empty values:  []\n"
     ]
    }
   ],
   "source": [
    "empty_columns = data.columns[data.isnull().any()].to_list()\n",
    "print(\"Columns with empty values: \", empty_columns)"
   ]
  },
  {
   "cell_type": "code",
   "execution_count": 5,
   "id": "c3fe4251",
   "metadata": {},
   "outputs": [
    {
     "name": "stdout",
     "output_type": "stream",
     "text": [
      "Duplicate values:  0\n"
     ]
    }
   ],
   "source": [
    "dupes = data[data.duplicated()]\n",
    "print(\"Duplicate values: \", dupes.shape[0])"
   ]
  },
  {
   "cell_type": "markdown",
   "id": "cfecd5b7",
   "metadata": {},
   "source": [
    "#### Outlier Detection w/ z-Score ####\n",
    "Outliers should only be possible in quantitative fields."
   ]
  },
  {
   "cell_type": "code",
   "execution_count": 6,
   "id": "e91923d8",
   "metadata": {},
   "outputs": [],
   "source": [
    " #Possible fields: 'IQ', 'Prev_Sem_Result', 'CGPA', 'Academic_Performance', 'Communication_Skills', 'Projects_Completed'\n",
    "\n",
    "#Parameters\n",
    "outlier_std = 3         #Default is 3.\n",
    "quantitative_fields = ['IQ', 'Prev_Sem_Result', 'CGPA', 'Academic_Performance', 'Communication_Skills', 'Projects_Completed']\n"
   ]
  },
  {
   "cell_type": "markdown",
   "id": "2c152c3f",
   "metadata": {},
   "source": [
    "#### Note: ####\n",
    "Function `find_outliers` will re-define z-scores when called. <br>\n",
    "Therefore updating the dataset AND calling the function after, can cause new outliers to re-emerge based on updated dataset."
   ]
  },
  {
   "cell_type": "code",
   "execution_count": 7,
   "id": "0a1cf5d2",
   "metadata": {},
   "outputs": [
    {
     "name": "stdout",
     "output_type": "stream",
     "text": [
      "     College_ID   IQ  Prev_Sem_Result  CGPA  Academic_Performance  \\\n",
      "209     CLG0073  157             8.33  8.53                     4   \n",
      "262     CLG0004   51             7.26  7.43                     1   \n",
      "478     CLG0047  146             9.72  9.44                     8   \n",
      "1615    CLG0037  147             8.34  7.90                     6   \n",
      "1957    CLG0037  147             7.58  7.14                     4   \n",
      "2024    CLG0044   54             9.04  8.82                     4   \n",
      "2305    CLG0047  146             5.81  5.37                     8   \n",
      "2895    CLG0056  158             6.07  5.89                     8   \n",
      "3716    CLG0033  148             9.37  9.08                     1   \n",
      "3982    CLG0037  147             5.15  5.32                     9   \n",
      "4198    CLG0071   54             9.07  9.27                     7   \n",
      "4725    CLG0017   52             8.92  9.36                     8   \n",
      "4779    CLG0057   52             7.56  7.36                     9   \n",
      "4870    CLG0100  146             9.74  9.62                     9   \n",
      "4997    CLG0069  146             5.64  5.78                     6   \n",
      "5796    CLG0050  146             6.87  7.27                     6   \n",
      "6891    CLG0081  152             6.69  6.29                     5   \n",
      "7140    CLG0079   51             8.04  8.49                     3   \n",
      "7223    CLG0090  146             5.08  5.12                     4   \n",
      "7305    CLG0043   54             9.34  9.84                     2   \n",
      "7611    CLG0063   44             5.14  4.72                     8   \n",
      "7677    CLG0077   45             7.84  7.63                     2   \n",
      "8024    CLG0073   52             9.23  8.89                     3   \n",
      "8180    CLG0023   51             7.66  7.43                     8   \n",
      "8200    CLG0076   42             9.36  9.20                     2   \n",
      "8248    CLG0038  150             8.45  8.66                     3   \n",
      "8726    CLG0051  147             9.16  9.36                    10   \n",
      "9770    CLG0030   41             6.51  6.96                     2   \n",
      "\n",
      "     Internship_Experience  Extra_Curricular_Score  Communication_Skills  \\\n",
      "209                     No                       8                     3   \n",
      "262                     No                       4                     9   \n",
      "478                    Yes                       9                     7   \n",
      "1615                   Yes                       0                     9   \n",
      "1957                    No                       0                     8   \n",
      "2024                   Yes                       5                     9   \n",
      "2305                   Yes                       8                     7   \n",
      "2895                    No                       5                     8   \n",
      "3716                    No                       7                     8   \n",
      "3982                   Yes                      10                     5   \n",
      "4198                   Yes                       5                     7   \n",
      "4725                    No                      10                     6   \n",
      "4779                    No                       4                     3   \n",
      "4870                    No                       6                     3   \n",
      "4997                    No                       7                     7   \n",
      "5796                   Yes                       4                     5   \n",
      "6891                    No                       4                     3   \n",
      "7140                    No                       0                     3   \n",
      "7223                    No                       9                     7   \n",
      "7305                    No                       5                     4   \n",
      "7611                   Yes                       9                     9   \n",
      "7677                    No                       6                     6   \n",
      "8024                    No                       5                     3   \n",
      "8180                    No                       4                     9   \n",
      "8200                   Yes                       9                     5   \n",
      "8248                    No                      10                    10   \n",
      "8726                    No                       7                    10   \n",
      "9770                   Yes                      10                     6   \n",
      "\n",
      "      Projects_Completed Placement  \n",
      "209                    0        No  \n",
      "262                    0        No  \n",
      "478                    4       Yes  \n",
      "1615                   1        No  \n",
      "1957                   2       Yes  \n",
      "2024                   0        No  \n",
      "2305                   3        No  \n",
      "2895                   3       Yes  \n",
      "3716                   3       Yes  \n",
      "3982                   0        No  \n",
      "4198                   4        No  \n",
      "4725                   4        No  \n",
      "4779                   3        No  \n",
      "4870                   3       Yes  \n",
      "4997                   2        No  \n",
      "5796                   2        No  \n",
      "6891                   4        No  \n",
      "7140                   4        No  \n",
      "7223                   5        No  \n",
      "7305                   4        No  \n",
      "7611                   1        No  \n",
      "7677                   3        No  \n",
      "8024                   5        No  \n",
      "8180                   2        No  \n",
      "8200                   4        No  \n",
      "8248                   0       Yes  \n",
      "8726                   4       Yes  \n",
      "9770                   5        No  \n"
     ]
    }
   ],
   "source": [
    "#Return relevant outlier values.\n",
    "def find_outliers(param_field):\n",
    "    data_z = pd.DataFrame(zscore(data[param_field], nan_policy='omit'), columns=[param_field], index=data.index)\n",
    "    outlier_mask = (abs(data_z) > outlier_std).any(axis=1)\n",
    "    outliers = data[outlier_mask]\n",
    "    \n",
    "    return outlier_mask, outliers\n",
    "    \n",
    "mask, outliers = find_outliers(quantitative_fields)\n",
    "\n",
    "print(outliers)"
   ]
  },
  {
   "cell_type": "code",
   "execution_count": 8,
   "id": "4e1ef17c",
   "metadata": {},
   "outputs": [
    {
     "name": "stdout",
     "output_type": "stream",
     "text": [
      "Number of outliers in IQ: 28\n",
      "Number of outliers in Prev_Sem_Result: 0\n",
      "Number of outliers in CGPA: 0\n",
      "Number of outliers in Academic_Performance: 0\n",
      "Number of outliers in Communication_Skills: 0\n",
      "Number of outliers in Projects_Completed: 0\n"
     ]
    }
   ],
   "source": [
    "#Determine which columns have outliers above the specified standard deviation, and how many.\n",
    "for field in quantitative_fields:\n",
    "    _ , outliers = find_outliers(field)\n",
    "    print(f\"Number of outliers in {field}: {outliers.shape[0]}\")"
   ]
  },
  {
   "cell_type": "markdown",
   "id": "f5b18ccb",
   "metadata": {},
   "source": [
    "#### Replace Outliers ####"
   ]
  },
  {
   "cell_type": "code",
   "execution_count": 9,
   "id": "259b99cd",
   "metadata": {},
   "outputs": [
    {
     "name": "stdout",
     "output_type": "stream",
     "text": [
      "Median of IQ:  99.0 \n",
      "\n",
      "Replaced values:\n",
      " 209     99\n",
      "262     99\n",
      "478     99\n",
      "1615    99\n",
      "1957    99\n",
      "2024    99\n",
      "2305    99\n",
      "2895    99\n",
      "3716    99\n",
      "3982    99\n",
      "4198    99\n",
      "4725    99\n",
      "4779    99\n",
      "4870    99\n",
      "4997    99\n",
      "5796    99\n",
      "6891    99\n",
      "7140    99\n",
      "7223    99\n",
      "7305    99\n",
      "7611    99\n",
      "7677    99\n",
      "8024    99\n",
      "8180    99\n",
      "8200    99\n",
      "8248    99\n",
      "8726    99\n",
      "9770    99\n",
      "Name: IQ, dtype: int64\n"
     ]
    }
   ],
   "source": [
    "IQ_median = data['IQ'].median()\n",
    "print(\"Median of IQ: \", IQ_median, '\\n')\n",
    "\n",
    "IQ_outlier_mask, _ = find_outliers(['IQ'])\n",
    "IQ_outlier_indices = data[IQ_outlier_mask].index.tolist()\n",
    "\n",
    "#Replace outliers of IQ values with median.\n",
    "data.loc[IQ_outlier_mask, 'IQ'] = IQ_median\n",
    "\n",
    "#Check that the outlier values have been replaced with median (99 in this case), using indexes from mask.\n",
    "print(\"Replaced values:\\n\", data.loc[IQ_outlier_indices, 'IQ'])\n"
   ]
  },
  {
   "cell_type": "markdown",
   "id": "e7020167",
   "metadata": {},
   "source": [
    "#### Convert Boolean to Binary ####\n",
    "Cast Yes/No values to 1/0. <br>\n",
    "Initial data type is object so it needs to be cast into a string."
   ]
  },
  {
   "cell_type": "code",
   "execution_count": 10,
   "id": "1ff6cccb",
   "metadata": {},
   "outputs": [],
   "source": [
    "data['Internship_Experience'] = data['Internship_Experience'].astype(str)\n",
    "data['Placement'] = data['Placement'].astype(str)\n",
    "\n",
    "data['Internship_Experience'] = data['Internship_Experience'].map({'No' : 0, 'Yes' : 1})\n",
    "data['Placement'] = data['Placement'].map({'No' : 0, 'Yes' : 1})\n",
    "\n",
    "#print(data['Internship_Experience'])\n",
    "#print(data['Placement'])"
   ]
  },
  {
   "cell_type": "markdown",
   "id": "ab95d799",
   "metadata": {},
   "source": [
    "## Correlation Matrix ##\n",
    "Checking linear relationships between numerical data."
   ]
  },
  {
   "cell_type": "code",
   "execution_count": null,
   "id": "bdfc62c0",
   "metadata": {},
   "outputs": [
    {
     "data": {
      "image/png": "[encoded data removed]",
      "text/plain": [
       "<Figure size 1000x1000 with 2 Axes>"
      ]
     },
     "metadata": {},
     "output_type": "display_data"
    }
   ],
   "source": [
    "#Base parameters\n",
    "quantitative_fields = ['IQ', 'Prev_Sem_Result', 'CGPA', 'Academic_Performance', 'Communication_Skills', 'Projects_Completed', 'Internship_Experience', 'Placement'] #Append new binary values.\n",
    "corr_data = data[quantitative_fields].corr()\n",
    "p_value_corr = round(corr_data.corr(method=lambda x, y : pearsonr(x, y)[1]), 4)\n",
    "p_value = 0.05 #Default p-value for significance = 0.05\n",
    "\n",
    "#Figure parameters\n",
    "mask = np.triu(corr_data)\n",
    "p_mask = np.invert(np.tril(p_value_corr < p_value))\n",
    "gradient = LinearSegmentedColormap.from_list('rg',[\"r\", \"w\", \"g\"], N=256) \n",
    "x, fig = plt.subplots(figsize=(10,10))\n",
    "\n",
    "#Switch mask between p_value filtering depending on preference.\n",
    "sns.heatmap(corr_data, mask=p_mask, cmap=gradient, vmin=-1, vmax=1, linewidths=2, linecolor='black', annot=True, annot_kws={'fontweight' : 'bold'}, square=True)\n",
    "plt.title('Correlation Matrix of Quantitative Fields')\n",
    "plt.xticks(rotation=30)\n",
    "plt.show()"
   ]
  }
 ],
 "metadata": {
  "kernelspec": {
   "display_name": "Python 3",
   "language": "python",
   "name": "python3"
  },
  "language_info": {
   "codemirror_mode": {
    "name": "ipython",
    "version": 3
   },
   "file_extension": ".py",
   "mimetype": "text/x-python",
   "name": "python",
   "nbconvert_exporter": "python",
   "pygments_lexer": "ipython3",
   "version": "3.11.9"
  }
 },
 "nbformat": 4,
 "nbformat_minor": 5
}
